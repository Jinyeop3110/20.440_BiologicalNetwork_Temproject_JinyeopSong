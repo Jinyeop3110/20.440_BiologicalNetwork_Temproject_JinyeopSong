{
 "cells": [
  {
   "cell_type": "code",
   "execution_count": 1,
   "id": "79690369-3458-4600-9c95-0a8758826604",
   "metadata": {},
   "outputs": [
    {
     "name": "stderr",
     "output_type": "stream",
     "text": [
      "Attaching SeuratObject\n",
      "\n",
      "\n",
      "다음의 패키지를 부착합니다: ‘dplyr’\n",
      "\n",
      "\n",
      "The following objects are masked from ‘package:plyr’:\n",
      "\n",
      "    arrange, count, desc, failwith, id, mutate, rename, summarise,\n",
      "    summarize\n",
      "\n",
      "\n",
      "The following objects are masked from ‘package:stats’:\n",
      "\n",
      "    filter, lag\n",
      "\n",
      "\n",
      "The following objects are masked from ‘package:base’:\n",
      "\n",
      "    intersect, setdiff, setequal, union\n",
      "\n",
      "\n",
      "\n",
      "다음의 패키지를 부착합니다: ‘cowplot’\n",
      "\n",
      "\n",
      "The following object is masked from ‘package:patchwork’:\n",
      "\n",
      "    align_plots\n",
      "\n",
      "\n",
      "필요한 패키지를 로딩중입니다: viridisLite\n",
      "\n",
      "\n",
      "다음의 패키지를 부착합니다: ‘viridis’\n",
      "\n",
      "\n",
      "The following object is masked from ‘package:scales’:\n",
      "\n",
      "    viridis_pal\n",
      "\n",
      "\n",
      "필요한 패키지를 로딩중입니다: ggrepel\n",
      "\n"
     ]
    }
   ],
   "source": [
    "#!/usr/bin/env Rscript\n",
    "#setwd('analysis')\n",
    "##########################\n",
    "library(scales)\n",
    "library(plyr)\n",
    "library(Seurat)\n",
    "library(dplyr)\n",
    "library(patchwork)\n",
    "library(ggplot2)\n",
    "library(cowplot)\n",
    "library(\"viridis\")  \n",
    "library(RColorBrewer)\n",
    "library(\"viridis\")\n",
    "library(Matrix)\n",
    "library(EnhancedVolcano)\n",
    "library(writexl)"
   ]
  },
  {
   "cell_type": "code",
   "execution_count": 13,
   "id": "1054d56e-a13b-4fc8-8cbc-9a1dbbf4c64f",
   "metadata": {},
   "outputs": [
    {
     "name": "stderr",
     "output_type": "stream",
     "text": [
      "Warning message in CreateSeuratObject.default(counts = data, project = \"BBB\", meta.data = meta, :\n",
      "“Some cells in meta.data not present in provided counts matrix”\n"
     ]
    }
   ],
   "source": [
    "# Reading Datafile and Metadata\n",
    "\n",
    "data=readRDS('../Data_BBB/brain.BBB.human.vascular.final.Jan2022.rds')\n",
    "meta=readRDS('../Data_BBB/brain.BBB.human.vascular.final.Jan2022.metadata.rds')\n",
    "\n",
    "brain=CreateSeuratObject(counts = data, project = \"BBB\", meta.data=meta,min.cells = 3, min.features = 200)"
   ]
  },
  {
   "cell_type": "code",
   "execution_count": 14,
   "id": "6e0eee51-4cb9-4afa-8343-3943250e6504",
   "metadata": {},
   "outputs": [],
   "source": [
    "# Make CD19 expression Label \n",
    "CD19exp <- FetchData(object = brain, vars = c('CD19'))\n",
    "CD19label <- lapply(CD19exp, function(x) {\n",
    "  ifelse(x > 0, \"CD19_pos\", \"CD19_neg\")\n",
    "})\n",
    "  \n",
    "brain$CD19exp <- CD19label\n",
    "\n"
   ]
  },
  {
   "cell_type": "code",
   "execution_count": 15,
   "id": "88692bf3-f0d6-422e-8389-caf73ca7d22a",
   "metadata": {},
   "outputs": [],
   "source": [
    "# Normalization and featuring\n",
    "\n",
    "brain.list <- SplitObject(brain, split.by = \"CD19exp\")\n",
    "\n",
    "brain.list <- lapply(X = brain.list, FUN = function(x) {\n",
    "    x <- NormalizeData(brain, normalization.method = \"LogNormalize\", scale.factor = 10000)\n",
    "    x <- FindVariableFeatures(x, selection.method = \"vst\", nfeatures = 2000)\n",
    "})\n",
    "\n",
    "features <- SelectIntegrationFeatures(object.list = brain.list)"
   ]
  },
  {
   "cell_type": "code",
   "execution_count": 16,
   "id": "1f61265f-2b7e-4d25-a908-08c0135c71ab",
   "metadata": {
    "tags": []
   },
   "outputs": [
    {
     "name": "stderr",
     "output_type": "stream",
     "text": [
      "Warning message in CheckDuplicateCellNames(object.list = object.list):\n",
      "“Some cell names are duplicated across objects provided. Renaming to enforce unique cell names.”\n",
      "Scaling features for provided objects\n",
      "\n",
      "Finding all pairwise anchors\n",
      "\n",
      "Running CCA\n",
      "\n",
      "Merging objects\n",
      "\n",
      "Finding neighborhoods\n",
      "\n",
      "Finding anchors\n",
      "\n",
      "\tFound 14499 anchors\n",
      "\n",
      "Filtering anchors\n",
      "\n",
      "\tRetained 12373 anchors\n",
      "\n",
      "Merging dataset 2 into 1\n",
      "\n",
      "Extracting anchors for merged samples\n",
      "\n",
      "Finding integration vectors\n",
      "\n",
      "Finding integration vector weights\n",
      "\n",
      "Integrating data\n",
      "\n"
     ]
    }
   ],
   "source": [
    "brain.anchors <- FindIntegrationAnchors(object.list = brain.list, anchor.features = features)\n",
    "brain.combined <- IntegrateData(anchorset = brain.anchors)\n"
   ]
  },
  {
   "cell_type": "code",
   "execution_count": 17,
   "id": "e971a737-3009-4d52-ab07-ded7b17d1d35",
   "metadata": {
    "tags": []
   },
   "outputs": [
    {
     "name": "stderr",
     "output_type": "stream",
     "text": [
      "17:57:33 UMAP embedding parameters a = 0.9922 b = 1.112\n",
      "\n",
      "17:57:33 Read 9936 rows and found 30 numeric columns\n",
      "\n",
      "17:57:33 Using Annoy for neighbor search, n_neighbors = 30\n",
      "\n",
      "17:57:33 Building Annoy index with metric = cosine, n_trees = 50\n",
      "\n",
      "0%   10   20   30   40   50   60   70   80   90   100%\n",
      "\n",
      "[----|----|----|----|----|----|----|----|----|----|\n",
      "\n",
      "*\n",
      "*\n",
      "*\n",
      "*\n",
      "*\n",
      "*\n",
      "*\n",
      "*\n",
      "*\n",
      "*\n",
      "*\n",
      "*\n",
      "*\n",
      "*\n",
      "*\n",
      "*\n",
      "*\n",
      "*\n",
      "*\n",
      "*\n",
      "*\n",
      "*\n",
      "*\n",
      "*\n",
      "*\n",
      "*\n",
      "*\n",
      "*\n",
      "*\n",
      "*\n",
      "*\n",
      "*\n",
      "*\n",
      "*\n",
      "*\n",
      "*\n",
      "*\n",
      "*\n",
      "*\n",
      "*\n",
      "*\n",
      "*\n",
      "*\n",
      "*\n",
      "*\n",
      "*\n",
      "*\n",
      "*\n",
      "*\n",
      "*\n",
      "|\n",
      "\n",
      "17:57:35 Writing NN index file to temp file /var/folders/jx/rq_jr02135l_jt9wtyd2x47c0000gn/T//RtmpKubUou/file127081a1449\n",
      "\n",
      "17:57:35 Searching Annoy index using 1 thread, search_k = 3000\n",
      "\n",
      "17:57:38 Annoy recall = 100%\n",
      "\n",
      "17:57:38 Commencing smooth kNN distance calibration using 1 thread\n",
      " with target n_neighbors = 30\n",
      "\n",
      "17:57:39 Initializing from normalized Laplacian + noise (using irlba)\n",
      "\n",
      "17:57:40 Commencing optimization for 500 epochs, with 420098 positive edges\n",
      "\n",
      "17:58:05 Optimization finished\n",
      "\n",
      "Computing nearest neighbor graph\n",
      "\n",
      "Computing SNN\n",
      "\n"
     ]
    },
    {
     "name": "stdout",
     "output_type": "stream",
     "text": [
      "Modularity Optimizer version 1.3.0 by Ludo Waltman and Nees Jan van Eck\n",
      "\n",
      "Number of nodes: 9936\n",
      "Number of edges: 345462\n",
      "\n",
      "Running Louvain algorithm...\n",
      "Maximum modularity in 10 random starts: 0.9347\n",
      "Number of communities: 20\n",
      "Elapsed time: 1 seconds\n"
     ]
    }
   ],
   "source": [
    "DefaultAssay(brain.combined) <- \"integrated\"\n",
    "\n",
    "# Run the standard workflow for visualization and clustering\n",
    "brain.combined <- ScaleData(brain.combined, verbose = FALSE)\n",
    "brain.combined <- RunPCA(brain.combined, npcs = 30, verbose = FALSE)\n",
    "brain.combined <- RunUMAP(brain.combined, reduction = \"pca\", dims = 1:30)\n",
    "brain.combined <- FindNeighbors(brain.combined, reduction = \"pca\", dims = 1:30)\n",
    "brain.combined <- FindClusters(brain.combined, resolution = 0.5)\n"
   ]
  },
  {
   "cell_type": "code",
   "execution_count": 18,
   "id": "f241476d-7f29-4ae9-bd9b-b748c5766c98",
   "metadata": {
    "tags": []
   },
   "outputs": [
    {
     "ename": "ERROR",
     "evalue": "Error in paste(ident.1, level.use, sep = \"_\"): 기본값이 없는 인수 \"ident.1\"가 누락되어 있습니다\n",
     "output_type": "error",
     "traceback": [
      "Error in paste(ident.1, level.use, sep = \"_\"): 기본값이 없는 인수 \"ident.1\"가 누락되어 있습니다\nTraceback:\n",
      "1. FindConservedMarkers(brain.combined, grouping.var = \"CD19exp\", \n .     verbose = FALSE)",
      "2. paste(ident.1, level.use, sep = \"_\")"
     ]
    }
   ],
   "source": [
    "DefaultAssay(brain.combined) <- \"RNA\"\n",
    "nk.markers <- FindConservedMarkers(brain.combined, grouping.var = \"CD19exp\", verbose = FALSE)\n",
    "head(nk.markers)"
   ]
  },
  {
   "cell_type": "code",
   "execution_count": 49,
   "id": "1cee8895-b4b7-4a5f-8887-dc6b8d783382",
   "metadata": {},
   "outputs": [
    {
     "data": {
      "text/html": [
       "4"
      ],
      "text/latex": [
       "4"
      ],
      "text/markdown": [
       "4"
      ],
      "text/plain": [
       "[1] 4"
      ]
     },
     "metadata": {},
     "output_type": "display_data"
    },
    {
     "data": {
      "text/html": [
       "<table class=\"dataframe\">\n",
       "<caption>A data.frame: 6 × 5</caption>\n",
       "<thead>\n",
       "\t<tr><th></th><th scope=col>p_val</th><th scope=col>avg_log2FC</th><th scope=col>pct.1</th><th scope=col>pct.2</th><th scope=col>p_val_adj</th></tr>\n",
       "\t<tr><th></th><th scope=col>&lt;dbl&gt;</th><th scope=col>&lt;dbl&gt;</th><th scope=col>&lt;dbl&gt;</th><th scope=col>&lt;dbl&gt;</th><th scope=col>&lt;dbl&gt;</th></tr>\n",
       "</thead>\n",
       "<tbody>\n",
       "\t<tr><th scope=row>CD19</th><td> 0.000000e+00</td><td>1.6098461</td><td>1.0</td><td>0.000</td><td> 0.000000e+00</td></tr>\n",
       "\t<tr><th scope=row>TNF</th><td>2.427944e-170</td><td>0.9498107</td><td>0.5</td><td>0.000</td><td>6.083942e-166</td></tr>\n",
       "\t<tr><th scope=row>AC007349.1</th><td>2.427944e-170</td><td>1.0844546</td><td>0.5</td><td>0.000</td><td>6.083942e-166</td></tr>\n",
       "\t<tr><th scope=row>ERICD</th><td> 4.789471e-86</td><td>0.9466452</td><td>0.5</td><td>0.001</td><td> 1.200146e-81</td></tr>\n",
       "\t<tr><th scope=row>CCDC13-AS1</th><td> 1.304000e-85</td><td>1.0743215</td><td>0.5</td><td>0.001</td><td> 3.267564e-81</td></tr>\n",
       "\t<tr><th scope=row>AL355581.1</th><td> 1.304000e-85</td><td>1.0798460</td><td>0.5</td><td>0.001</td><td> 3.267564e-81</td></tr>\n",
       "</tbody>\n",
       "</table>\n"
      ],
      "text/latex": [
       "A data.frame: 6 × 5\n",
       "\\begin{tabular}{r|lllll}\n",
       "  & p\\_val & avg\\_log2FC & pct.1 & pct.2 & p\\_val\\_adj\\\\\n",
       "  & <dbl> & <dbl> & <dbl> & <dbl> & <dbl>\\\\\n",
       "\\hline\n",
       "\tCD19 &  0.000000e+00 & 1.6098461 & 1.0 & 0.000 &  0.000000e+00\\\\\n",
       "\tTNF & 2.427944e-170 & 0.9498107 & 0.5 & 0.000 & 6.083942e-166\\\\\n",
       "\tAC007349.1 & 2.427944e-170 & 1.0844546 & 0.5 & 0.000 & 6.083942e-166\\\\\n",
       "\tERICD &  4.789471e-86 & 0.9466452 & 0.5 & 0.001 &  1.200146e-81\\\\\n",
       "\tCCDC13-AS1 &  1.304000e-85 & 1.0743215 & 0.5 & 0.001 &  3.267564e-81\\\\\n",
       "\tAL355581.1 &  1.304000e-85 & 1.0798460 & 0.5 & 0.001 &  3.267564e-81\\\\\n",
       "\\end{tabular}\n"
      ],
      "text/markdown": [
       "\n",
       "A data.frame: 6 × 5\n",
       "\n",
       "| <!--/--> | p_val &lt;dbl&gt; | avg_log2FC &lt;dbl&gt; | pct.1 &lt;dbl&gt; | pct.2 &lt;dbl&gt; | p_val_adj &lt;dbl&gt; |\n",
       "|---|---|---|---|---|---|\n",
       "| CD19 |  0.000000e+00 | 1.6098461 | 1.0 | 0.000 |  0.000000e+00 |\n",
       "| TNF | 2.427944e-170 | 0.9498107 | 0.5 | 0.000 | 6.083942e-166 |\n",
       "| AC007349.1 | 2.427944e-170 | 1.0844546 | 0.5 | 0.000 | 6.083942e-166 |\n",
       "| ERICD |  4.789471e-86 | 0.9466452 | 0.5 | 0.001 |  1.200146e-81 |\n",
       "| CCDC13-AS1 |  1.304000e-85 | 1.0743215 | 0.5 | 0.001 |  3.267564e-81 |\n",
       "| AL355581.1 |  1.304000e-85 | 1.0798460 | 0.5 | 0.001 |  3.267564e-81 |\n",
       "\n"
      ],
      "text/plain": [
       "           p_val         avg_log2FC pct.1 pct.2 p_val_adj    \n",
       "CD19        0.000000e+00 1.6098461  1.0   0.000  0.000000e+00\n",
       "TNF        2.427944e-170 0.9498107  0.5   0.000 6.083942e-166\n",
       "AC007349.1 2.427944e-170 1.0844546  0.5   0.000 6.083942e-166\n",
       "ERICD       4.789471e-86 0.9466452  0.5   0.001  1.200146e-81\n",
       "CCDC13-AS1  1.304000e-85 1.0743215  0.5   0.001  3.267564e-81\n",
       "AL355581.1  1.304000e-85 1.0798460  0.5   0.001  3.267564e-81"
      ]
     },
     "metadata": {},
     "output_type": "display_data"
    },
    {
     "ename": "ERROR",
     "evalue": "Error: (경고에서 변환) One or more p-values is 0. Converting to 10^-1 * current lowest non-zero p-value...\n",
     "output_type": "error",
     "traceback": [
      "Error: (경고에서 변환) One or more p-values is 0. Converting to 10^-1 * current lowest non-zero p-value...\nTraceback:\n",
      "1. EnhancedVolcano(markers, rownames(markers), x = \"avg_log2FC\", \n .     y = \"p_val\", title = title, pCutoff = 1e-04, FCcutoff = 1, \n .     pointSize = 3, labSize = 6)",
      "2. warning(paste(\"One or more p-values is 0.\", \"Converting to 10^-1 * current\", \n .     \"lowest non-zero p-value...\"), call. = FALSE)",
      "3. .signalSimpleWarning(\"One or more p-values is 0. Converting to 10^-1 * current lowest non-zero p-value...\", \n .     base::quote(NULL))",
      "4. withRestarts({\n .     .Internal(.signalCondition(simpleWarning(msg, call), msg, \n .         call))\n .     .Internal(.dfltWarn(msg, call))\n . }, muffleWarning = function() NULL)",
      "5. withOneRestart(expr, restarts[[1L]])",
      "6. doWithOneRestart(return(expr), restart)"
     ]
    }
   ],
   "source": [
    "theme_set(theme_cowplot())\n",
    "\n",
    "# Fib 1552\n",
    "subpopul.cells <- subset(brain.combined, subset = cellsubtype == \"Fib1\" |  cellsubtype == \"Fib2\"  |  cellsubtype == \"Fib3\")\n",
    "title <- \"Fibroblasts\"\n",
    "#SMC\n",
    "#subpopul.cells <- subset(brain.combined, subset = cellsubtype == \"aSMC\" |  cellsubtype == \"vSMC\")\n",
    "#title <- \"SMC\"\n",
    "# Endo 4426\n",
    "#subpopul.cells <- subset(brain.combined, subset = cellsubtype == \"capEndo\" |  cellsubtype == \"aEndo\"  |  cellsubtype == \"vEndo\")\n",
    "#title <- \"Endo\"\n",
    "# Per   3128\n",
    "# subpopul.cells <- subset(brain.combined, subset = cellsubtype == \"Per1\" |  cellsubtype == \"Per2\"  |  cellsubtype == \"Per3\")\n",
    "# title <- \"Perycites\"\n",
    "#subpopul.cells\n",
    "length(which(subpopul.cells$CD19exp=='CD19_pos'))\n",
    "\n",
    "Idents(subpopul.cells) <- \"CD19exp\"\n",
    "avg.subpopul.cells <- as.data.frame(log1p(AverageExpression(subpopul.cells, verbose = FALSE)$RNA))\n",
    "avg.subpopul.cells$gene <- rownames(avg.subpopul.cells)\n",
    "\n",
    "markers <- FindMarkers(subpopul.cells, ident.1 = \"CD19_pos\", ident.2 = \"CD19_neg\")\n",
    "head(markers)\n",
    "\n",
    "#ggsave(paste(\"VolcanoPlot_fullrange\",title,\"png\"))\n",
    "\n",
    "df <- head(markers)\n",
    "df$Genes <- rownames(df)\n",
    "\n",
    "write_xlsx(df, paste0(\"../Figures/VolcanoHead_\",title,\".xlsx\"))\n",
    "\n",
    "options(repr.plot.width=12, repr.plot.height=10)\n",
    "jpeg(file=paste0(\"../Figures/VolcanoPlot_\",title,\".jpeg\"))\n",
    "\n",
    "\n",
    "p2<-EnhancedVolcano(markers , rownames(markers),\n",
    "                x =\"avg_log2FC\", \n",
    "                y =\"p_val\",\n",
    "                title = title,\n",
    "        pCutoff = 1e-4,\n",
    "        FCcutoff = 1,\n",
    "        pointSize = 3.0,\n",
    "        labSize = 6.0)\n",
    "\n",
    "p2 + ylim(0, 8)\n",
    "\n",
    "dev.off()"
   ]
  },
  {
   "cell_type": "code",
   "execution_count": null,
   "id": "3221c0f8-1057-4265-bcb7-8281b4bc5447",
   "metadata": {},
   "outputs": [],
   "source": [
    "theme_set(theme_cowplot())\n",
    "\n",
    "# Fib 1552\n",
    "#subpopul.cells <- subset(brain.combined, subset = cellsubtype == \"Fib1\" |  cellsubtype == \"Fib2\"  |  cellsubtype == \"Fib3\")\n",
    "#title <- \"Fibroblasts\"\n",
    "#SMC\n",
    "subpopul.cells <- subset(brain.combined, subset = cellsubtype == \"aSMC\" |  cellsubtype == \"vSMC\")\n",
    "title <- \"SMC\"\n",
    "# Endo 4426\n",
    "#subpopul.cells <- subset(brain.combined, subset = cellsubtype == \"capEndo\" |  cellsubtype == \"aEndo\"  |  cellsubtype == \"vEndo\")\n",
    "#title <- \"Endo\"\n",
    "# Per   3128\n",
    "# subpopul.cells <- subset(brain.combined, subset = cellsubtype == \"Per1\" |  cellsubtype == \"Per2\"  |  cellsubtype == \"Per3\")\n",
    "# title <- \"Perycites\"\n",
    "#subpopul.cells\n",
    "length(which(subpopul.cells$CD19exp=='CD19_pos'))\n",
    "\n",
    "Idents(subpopul.cells) <- \"CD19exp\"\n",
    "avg.subpopul.cells <- as.data.frame(log1p(AverageExpression(subpopul.cells, verbose = FALSE)$RNA))\n",
    "avg.subpopul.cells$gene <- rownames(avg.subpopul.cells)\n",
    "\n",
    "markers <- FindMarkers(subpopul.cells, ident.1 = \"CD19_pos\", ident.2 = \"CD19_neg\")\n",
    "head(markers)\n",
    "\n",
    "#ggsave(paste(\"VolcanoPlot_fullrange\",title,\"png\"))\n",
    "\n",
    "df <- head(markers)\n",
    "df$Genes <- rownames(df)\n",
    "\n",
    "write_xlsx(df, paste0(\"../Figures/VolcanoHead_\",title,\".xlsx\"))\n",
    "\n",
    "options(repr.plot.width=12, repr.plot.height=10)\n",
    "jpeg(file=paste0(\"../Figures/VolcanoPlot_\",title,\".jpeg\"))\n",
    "\n",
    "\n",
    "p2<-EnhancedVolcano(markers , rownames(markers),\n",
    "                x =\"avg_log2FC\", \n",
    "                y =\"p_val\",\n",
    "                title = title,\n",
    "        pCutoff = 1e-4,\n",
    "        FCcutoff = 1,\n",
    "        pointSize = 3.0,\n",
    "        labSize = 6.0)\n",
    "\n",
    "p2 + ylim(0, 8)\n",
    "\n",
    "dev.off()"
   ]
  },
  {
   "cell_type": "code",
   "execution_count": null,
   "id": "ffe5546e-53a7-42d7-9b75-e5935c64856f",
   "metadata": {},
   "outputs": [],
   "source": [
    "theme_set(theme_cowplot())\n",
    "\n",
    "# Fib 1552\n",
    "#subpopul.cells <- subset(brain.combined, subset = cellsubtype == \"Fib1\" |  cellsubtype == \"Fib2\"  |  cellsubtype == \"Fib3\")\n",
    "#title <- \"Fibroblasts\"\n",
    "#SMC\n",
    "#subpopul.cells <- subset(brain.combined, subset = cellsubtype == \"aSMC\" |  cellsubtype == \"vSMC\")\n",
    "#title <- \"SMC\"\n",
    "# Endo 4426\n",
    "subpopul.cells <- subset(brain.combined, subset = cellsubtype == \"capEndo\" |  cellsubtype == \"aEndo\"  |  cellsubtype == \"vEndo\")\n",
    "title <- \"Endo\"\n",
    "# Per   3128\n",
    "# subpopul.cells <- subset(brain.combined, subset = cellsubtype == \"Per1\" |  cellsubtype == \"Per2\"  |  cellsubtype == \"Per3\")\n",
    "# title <- \"Perycites\"\n",
    "#subpopul.cells\n",
    "length(which(subpopul.cells$CD19exp=='CD19_pos'))\n",
    "\n",
    "Idents(subpopul.cells) <- \"CD19exp\"\n",
    "avg.subpopul.cells <- as.data.frame(log1p(AverageExpression(subpopul.cells, verbose = FALSE)$RNA))\n",
    "avg.subpopul.cells$gene <- rownames(avg.subpopul.cells)\n",
    "\n",
    "markers <- FindMarkers(subpopul.cells, ident.1 = \"CD19_pos\", ident.2 = \"CD19_neg\")\n",
    "head(markers)\n",
    "\n",
    "#ggsave(paste(\"VolcanoPlot_fullrange\",title,\"png\"))\n",
    "\n",
    "df <- head(markers)\n",
    "df$Genes <- rownames(df)\n",
    "\n",
    "write_xlsx(df, paste0(\"../Figures/VolcanoHead_\",title,\".xlsx\"))\n",
    "\n",
    "options(repr.plot.width=12, repr.plot.height=10)\n",
    "jpeg(file=paste0(\"../Figures/VolcanoPlot_\",title,\".jpeg\"))\n",
    "\n",
    "\n",
    "p2<-EnhancedVolcano(markers , rownames(markers),\n",
    "                x =\"avg_log2FC\", \n",
    "                y =\"p_val\",\n",
    "                title = title,\n",
    "        pCutoff = 1e-4,\n",
    "        FCcutoff = 1,\n",
    "        pointSize = 3.0,\n",
    "        labSize = 6.0)\n",
    "\n",
    "p2 + ylim(0, 8)\n",
    "\n",
    "dev.off()"
   ]
  },
  {
   "cell_type": "code",
   "execution_count": null,
   "id": "0013d92b-928b-410a-847f-f7bc7d628c23",
   "metadata": {},
   "outputs": [],
   "source": [
    "theme_set(theme_cowplot())\n",
    "\n",
    "# Fib 1552\n",
    "#subpopul.cells <- subset(brain.combined, subset = cellsubtype == \"Fib1\" |  cellsubtype == \"Fib2\"  |  cellsubtype == \"Fib3\")\n",
    "#title <- \"Fibroblasts\"\n",
    "#SMC\n",
    "#subpopul.cells <- subset(brain.combined, subset = cellsubtype == \"aSMC\" |  cellsubtype == \"vSMC\")\n",
    "#title <- \"SMC\"\n",
    "# Endo 4426\n",
    "#subpopul.cells <- subset(brain.combined, subset = cellsubtype == \"capEndo\" |  cellsubtype == \"aEndo\"  |  cellsubtype == \"vEndo\")\n",
    "#title <- \"Endo\"\n",
    "# Per   3128\n",
    "subpopul.cells <- subset(brain.combined, subset = cellsubtype == \"Per1\" |  cellsubtype == \"Per2\"  |  cellsubtype == \"Per3\")\n",
    "title <- \"Perycites\"\n",
    "#subpopul.cells\n",
    "length(which(subpopul.cells$CD19exp=='CD19_pos'))\n",
    "\n",
    "Idents(subpopul.cells) <- \"CD19exp\"\n",
    "avg.subpopul.cells <- as.data.frame(log1p(AverageExpression(subpopul.cells, verbose = FALSE)$RNA))\n",
    "avg.subpopul.cells$gene <- rownames(avg.subpopul.cells)\n",
    "\n",
    "markers <- FindMarkers(subpopul.cells, ident.1 = \"CD19_pos\", ident.2 = \"CD19_neg\")\n",
    "head(markers)\n",
    "\n",
    "#ggsave(paste(\"VolcanoPlot_fullrange\",title,\"png\"))\n",
    "\n",
    "df <- head(markers)\n",
    "df$Genes <- rownames(df)\n",
    "\n",
    "write_xlsx(df, paste0(\"../Figures/VolcanoHead_\",title,\".xlsx\"))\n",
    "\n",
    "options(repr.plot.width=12, repr.plot.height=10)\n",
    "jpeg(file=paste0(\"../Figures/VolcanoPlot_\",title,\".jpeg\"))\n",
    "\n",
    "\n",
    "p2<-EnhancedVolcano(markers , rownames(markers),\n",
    "                x =\"avg_log2FC\", \n",
    "                y =\"p_val\",\n",
    "                title = title,\n",
    "        pCutoff = 1e-4,\n",
    "        FCcutoff = 1,\n",
    "        pointSize = 3.0,\n",
    "        labSize = 6.0)\n",
    "\n",
    "p2 + ylim(0, 8)\n",
    "\n",
    "dev.off()"
   ]
  },
  {
   "cell_type": "code",
   "execution_count": 48,
   "id": "8c931756-1e81-49d5-ac53-a7adeb0bbeb6",
   "metadata": {},
   "outputs": [
    {
     "ename": "ERROR",
     "evalue": "Error in rownames(monocyte.de.markers): 객체 'monocyte.de.markers'를 찾을 수 없습니다\n",
     "output_type": "error",
     "traceback": [
      "Error in rownames(monocyte.de.markers): 객체 'monocyte.de.markers'를 찾을 수 없습니다\nTraceback:\n",
      "1. rownames(monocyte.de.markers)"
     ]
    }
   ],
   "source": [
    "genes.to.label = c('CD19',c(rownames(monocyte.de.markers)[which(monocyte.de.markers$avg_log2FC>3)]))\n",
    "p1 <- ggplot(avg.subpopul.cells, aes(CD19_neg, CD19_pos)) + geom_point() + ggtitle(\"Fib\")\n",
    "p1 <- LabelPoints(plot = p1, points = genes.to.label, repel = TRUE)\n",
    "p1"
   ]
  },
  {
   "cell_type": "code",
   "execution_count": 47,
   "id": "ca783f42-852a-4624-b081-4921ec53e00c",
   "metadata": {},
   "outputs": [
    {
     "ename": "ERROR",
     "evalue": "Error in unique.default(x, nmax = nmax): unique()는 오로지 벡터들에만 적용됩니다\n",
     "output_type": "error",
     "traceback": [
      "Error in unique.default(x, nmax = nmax): unique()는 오로지 벡터들에만 적용됩니다\nTraceback:\n",
      "1. table(brain@assays$RNA@data)",
      "2. factor(a, exclude = exclude)",
      "3. unique(x, nmax = nmax)",
      "4. unique.default(x, nmax = nmax)"
     ]
    }
   ],
   "source": [
    "table(brain@assays$RNA@data)"
   ]
  },
  {
   "cell_type": "code",
   "execution_count": null,
   "id": "7a63aab3-7c2f-4e71-bb9d-cca2c6296e97",
   "metadata": {},
   "outputs": [],
   "source": [
    "#cd19.cells <- subset(brain, subset = CD19 > 0)\n",
    "\n",
    "gene.correlations <- cor(brain@assays$RNA@data, FetchData(brain,vars='CD19'), method = \"spearman\")\n",
    "sorted.genes <- sort(gene.correlations, decreasing = TRUE)\n",
    "top.genes <- head(sorted.genes, 200)\n",
    "library(org.Hs.eg.db)\n",
    "top.genes.ids <- as.character(top.genes)\n",
    "top.genes.entrez <- mapIds(org.Hs.eg.db, keys = top.genes.ids, keytype = \"SYMBOL\", column = \"ENTREZID\")\n",
    "library(clusterProfiler)\n",
    "enriched.go <- enrichGO(gene = top.genes.entrez, OrgDb = \"org.Hs.eg.db\", keyType = \"ENTREZID\")\n",
    "dotplot(enriched.go, showCategory = 20)\n",
    "\n"
   ]
  },
  {
   "cell_type": "code",
   "execution_count": null,
   "id": "5bfe1c79-e136-4ef9-a71d-7543c476bf59",
   "metadata": {},
   "outputs": [],
   "source": [
    "theme_set(theme_cowplot())\n",
    "\n",
    "t.cells <- subset(brain.combined, subset = cellsubtype == \"capEndo\" |  cellsubtype == \"aEndo\"  |  cellsubtype == \"vEndo\")\n",
    "Idents(t.cells) <- \"CD19exp\"\n",
    "avg.t.cells <- as.data.frame(log1p(AverageExpression(t.cells, verbose = FALSE)$RNA))\n",
    "avg.t.cells$gene <- rownames(avg.t.cells)\n",
    "\n",
    "cd14.mono <- subset(brain.combined, subset = cellsubtype == \"Per1\" |  cellsubtype == \"Per2\"  |  cellsubtype == \"Per3\")\n",
    "Idents(cd14.mono) <- \"CD19exp\"\n",
    "avg.cd14.mono <- as.data.frame(log1p(AverageExpression(cd14.mono, verbose = FALSE)$RNA))\n",
    "avg.cd14.mono$gene <- rownames(avg.cd14.mono)\n",
    "\n",
    "genes.to.label = c('CD19')\n",
    "p1 <- ggplot(avg.t.cells, aes(CD19_n, CD19_p)) + geom_point() + ggtitle(\"Endo\")\n",
    "p1 <- LabelPoints(plot = p1, points = genes.to.label, repel = TRUE)\n",
    "p2 <- ggplot(avg.cd14.mono, aes(CD19_n, CD19_p)) + geom_point() + ggtitle(\"Per\")\n",
    "p2 <- LabelPoints(plot = p2, points = genes.to.label, repel = TRUE)\n",
    "p1 + p2"
   ]
  }
 ],
 "metadata": {
  "kernelspec": {
   "display_name": "R",
   "language": "R",
   "name": "ir"
  },
  "language_info": {
   "codemirror_mode": "r",
   "file_extension": ".r",
   "mimetype": "text/x-r-source",
   "name": "R",
   "pygments_lexer": "r",
   "version": "4.2.1"
  }
 },
 "nbformat": 4,
 "nbformat_minor": 5
}
